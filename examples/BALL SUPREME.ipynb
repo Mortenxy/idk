{
 "cells": [
  {
   "cell_type": "code",
   "execution_count": 2,
   "id": "81f04ed2",
   "metadata": {},
   "outputs": [
    {
     "name": "stdin",
     "output_type": "stream",
     "text": [
      "How many?  10\n"
     ]
    },
    {
     "data": {
      "application/vnd.jupyter.widget-view+json": {
       "model_id": "6932668b90cf4433bf86c9a91fda7cf9",
       "version_major": 2,
       "version_minor": 0
      },
      "text/plain": [
       "Canvas(height=340, width=812)"
      ]
     },
     "metadata": {},
     "output_type": "display_data"
    },
    {
     "data": {
      "application/vnd.jupyter.widget-view+json": {
       "model_id": "905e3d49205a420bbd453573cba0cec0",
       "version_major": 2,
       "version_minor": 0
      },
      "text/plain": [
       "Output()"
      ]
     },
     "metadata": {},
     "output_type": "display_data"
    }
   ],
   "source": [
    "\"\"\"\n",
    "Created on Wed Aug 17 13:52:42 2022\n",
    "\n",
    "@author: morte\n",
    "\"\"\"\n",
    "from ipycanvas import Canvas, hold_canvas\n",
    "from random import randint, shuffle\n",
    "from ipywidgets import Output\n",
    "from math import floor\n",
    "\n",
    "N = input(\"How many? \")\n",
    "C = 4\n",
    "\n",
    "if N==\"cum\":\n",
    "    N = 14\n",
    "    SN = [[\"A\",\"A\",\"B\",\"C\"],[\"D\",\"E\",\"F\",\"G\"],[\"H\",\"I\",\"G\",\"J\"],[\"J\",\"I\",\"F\",\"J\"],[\"C\",\"K\",\"I\",\"B\"],[\"B\",\"H\",\"B\",\"K\"],\n",
    "          [\"L\",\"I\",\"G\",\"H\"],[\"L\",\"F\",\"G\",\"L\"],[\"C\",\"A\",\"D\",\"E\"],[\"E\",\"D\",\"K\",\"H\"],[\"C\",\"L\",\"K\",\"D\"],[\"J\",\"F\",\"A\",\"E\"],[],[]]\n",
    "    def color(i):\n",
    "        cool = [\"rgb(105,161,222)\",\"rgb(46,99,57)\",\"rgb(58,45,185)\",\"rgb(98,102,105)\",\"rgb(127,149,48)\",\"rgb(216,105,124)\",\n",
    "               \"rgb(104,47,144)\",\"rgb(119,75,28)\",\"rgb(180,56,46)\",\"rgb(221,143,81)\",\"rgb(236,218,108)\",\"rgb(130,212,136)\"]\n",
    "        return cool[i]\n",
    "else:\n",
    "    N = int(N)+2\n",
    "    SN = []\n",
    "    for i in range(N):\n",
    "        SN.append([])\n",
    "    for i in range(N-2):\n",
    "        num = chr(65+i)\n",
    "        n = 0\n",
    "        while not n == C:\n",
    "            beak = SN[randint(0,N-3)]\n",
    "            if len(beak) < C:\n",
    "                beak.append(num)\n",
    "                n += 1\n",
    "    for i in range(N-2):\n",
    "        shuffle(SN[i])\n",
    "    def color(i):\n",
    "        if i%2 == 0:\n",
    "            sat = \"100%\"\n",
    "        else:\n",
    "            sat = \"50%\"\n",
    "        #sat = f\"{25+round((i/N)*75)}%\"\n",
    "        return f\"hsl({(i/N)*360}, {sat}, 50%)\"\n",
    "    \n",
    "scale = 25/N\n",
    "g = 300*(N/10)*scale\n",
    "h = 100*(C/3)*scale\n",
    "r = 300*0.05*scale\n",
    "\n",
    "IX = 0\n",
    "IY = 0\n",
    "\n",
    "canvas = Canvas(width=g+2*r, height=h+2*r)\n",
    "display(canvas)\n",
    "    \n",
    "backup=SN.copy()\n",
    "\n",
    "def move(fr,to):\n",
    "    if len(to) == 0 and len(fr) > 0:\n",
    "        to.append(fr[-1])\n",
    "        fr.pop(-1)\n",
    "    elif ((to[-1] == fr[-1] and len(to) < C)):\n",
    "        to.append(fr[-1])\n",
    "        fr.pop(-1)\n",
    "\n",
    "def show(EX=-1):\n",
    "    canvas.clear()\n",
    "    for n in range(N):\n",
    "        S = SN[n]\n",
    "        if n == EX:\n",
    "            for i in range(len(S)-1):\n",
    "                canvas.fill_style = color(ord(S[i])-65)\n",
    "                canvas.fill_circle(g*n/(N-1)+r,h-h*i/(C)+r,r)\n",
    "            canvas.fill_style = color(ord(S[len(S)-1])-65)\n",
    "            canvas.fill_circle(g*n/(N-1)+r,r,r)\n",
    "        else:\n",
    "            for i in range(len(S)):\n",
    "                canvas.fill_style = color(ord(S[i])-65)\n",
    "                canvas.fill_circle(g*n/(N-1)+r,h-h*i/(C)+r,r)\n",
    "            \n",
    "win = 0\n",
    "tro = None\n",
    "fro = None\n",
    "\n",
    "show()\n",
    "\n",
    "out = Output()\n",
    "\n",
    "@out.capture()\n",
    "def handle_mouse_down(x, y):\n",
    "    global win,tro,fro,SN,N\n",
    "    #print(floor((x/g*(N-1))))\n",
    "    for i in range(N):\n",
    "        var = SN[i]\n",
    "        if not len(var) == 0:\n",
    "            if var.count(var[0]) == C:\n",
    "                win += 1\n",
    "            else:\n",
    "                win = 0\n",
    "    if win < N-2:\n",
    "        if fro == None:\n",
    "            fro = floor((x/g*(N-1)))\n",
    "            show(fro)\n",
    "        else:\n",
    "            tro = floor((x/g*(N-1)))\n",
    "        if isinstance(tro, int) and isinstance(fro, int):\n",
    "            if -1 < fro < N and -1 < tro < N and not SN[fro]==[]:\n",
    "                move(SN[fro],SN[tro])\n",
    "                show()\n",
    "            tro = None\n",
    "            fro = None\n",
    "    else:\n",
    "        print(\"gottem\")\n",
    "\n",
    "canvas.on_mouse_down(handle_mouse_down)\n",
    "display(out)\n",
    "\n",
    "\n"
   ]
  }
 ],
 "metadata": {
  "kernelspec": {
   "display_name": "Python 3 (ipykernel)",
   "language": "python",
   "name": "python3"
  },
  "language_info": {
   "codemirror_mode": {
    "name": "ipython",
    "version": 3
   },
   "file_extension": ".py",
   "mimetype": "text/x-python",
   "name": "python",
   "nbconvert_exporter": "python",
   "pygments_lexer": "ipython3",
   "version": "3.8.8"
  }
 },
 "nbformat": 4,
 "nbformat_minor": 5
}
