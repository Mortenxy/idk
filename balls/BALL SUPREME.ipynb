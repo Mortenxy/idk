{
 "cells": [
  {
   "cell_type": "markdown",
   "id": "c5a33327-e492-44dd-9f29-0bfb83c3b20c",
   "metadata": {},
   "source": [
    "Welcome to a much better version of ball sort puzzle.\n",
    "\n",
    "To play simply press run (the playbutton at the top of the screen) <br>\n",
    "Then enter how many silos of balls you would like to sort. <br>\n",
    "You can play as many times as you like.\n",
    "\n",
    "Once you are ready for a real challenge answer \"cum\" to the question \"How many balls?\". <br>\n",
    "At the end of that quest will be a grand reward, one you don't want to miss out on.\n",
    "\n",
    "(if you fail a lot of times at the challenge, but still want the reward just type \"im bad\", loser)\n"
   ]
  },
  {
   "cell_type": "code",
   "execution_count": 13,
   "id": "81f04ed2",
   "metadata": {
    "jupyter": {
     "source_hidden": true
    },
    "tags": []
   },
   "outputs": [
    {
     "name": "stdin",
     "output_type": "stream",
     "text": [
      "How many balls?  0\n"
     ]
    },
    {
     "data": {
      "application/vnd.jupyter.widget-view+json": {
       "model_id": "6021b20053b641f3b006861297b2ec7b",
       "version_major": 2,
       "version_minor": 0
      },
      "text/plain": [
       "Canvas(height=583, width=321)"
      ]
     },
     "metadata": {},
     "output_type": "display_data"
    },
    {
     "data": {
      "application/vnd.jupyter.widget-view+json": {
       "model_id": "148997fb60964a0e81478d4861092893",
       "version_major": 2,
       "version_minor": 0
      },
      "text/plain": [
       "Output()"
      ]
     },
     "metadata": {},
     "output_type": "display_data"
    }
   ],
   "source": [
    "\"\"\"\n",
    "Created on Wed Aug 17 13:52:42 2022\n",
    "\n",
    "@author: morte\n",
    "\"\"\"\n",
    "from ipycanvas import Canvas, hold_canvas\n",
    "from random import randint, shuffle\n",
    "from ipywidgets import Output\n",
    "from math import floor\n",
    "\n",
    "N = input(\"How many balls? \")\n",
    "C = 4\n",
    "dub = 0\n",
    "\n",
    "if str.lower(N)==\"cum\":\n",
    "    N = 14\n",
    "    SN = [[\"A\",\"A\",\"B\",\"C\"],[\"D\",\"E\",\"F\",\"G\"],[\"H\",\"I\",\"G\",\"J\"],[\"J\",\"I\",\"F\",\"J\"],[\"C\",\"K\",\"I\",\"B\"],[\"B\",\"H\",\"B\",\"K\"],\n",
    "          [\"L\",\"I\",\"G\",\"H\"],[\"L\",\"F\",\"G\",\"L\"],[\"C\",\"A\",\"D\",\"E\"],[\"E\",\"D\",\"K\",\"H\"],[\"C\",\"L\",\"K\",\"D\"],[\"J\",\"F\",\"A\",\"E\"],[],[]]\n",
    "    def color(i):\n",
    "        cool = [\"rgb(105,161,222)\",\"rgb(46,99,57)\",\"rgb(58,45,185)\",\"rgb(98,102,105)\",\"rgb(127,149,48)\",\"rgb(216,105,124)\",\n",
    "               \"rgb(104,47,144)\",\"rgb(119,75,28)\",\"rgb(180,56,46)\",\"rgb(221,143,81)\",\"rgb(236,218,108)\",\"rgb(130,212,136)\"]\n",
    "        return cool[i]\n",
    "elif str.lower(N)==\"im bad\":\n",
    "    print(\"Bruh, L. You really just suck\")\n",
    "    print(\"Try failing this one:\")\n",
    "    N = 3\n",
    "    SN = [[\"A\",\"A\",\"A\"],[\"A\"],[]]\n",
    "    def color(i):\n",
    "        return \"rgb(105,161,222)\"\n",
    "else:\n",
    "    N = int(N)+2\n",
    "    SN = []\n",
    "    for i in range(N):\n",
    "        SN.append([])\n",
    "    for i in range(N-2):\n",
    "        num = chr(65+i)\n",
    "        n = 0\n",
    "        while not n == C:\n",
    "            beak = SN[randint(0,N-3)]\n",
    "            if len(beak) < C:\n",
    "                beak.append(num)\n",
    "                n += 1\n",
    "    for i in range(N-2):\n",
    "        shuffle(SN[i])\n",
    "    def color(i):\n",
    "        if i%2 == 0:\n",
    "            sat = \"90%\"\n",
    "        else:\n",
    "            sat = \"50%\"\n",
    "        #sat = f\"{25+round((i/N)*75)}%\"\n",
    "        return f\"hsl({(i/N)*360}, {sat}, 50%)\"\n",
    "\n",
    "if N > 4:\n",
    "    scale = 25/N\n",
    "else:\n",
    "    scale = 25/7\n",
    "g = 300*(N/10)*scale\n",
    "h = 100*(C/3)*scale\n",
    "r = 300*0.05*scale\n",
    "\n",
    "IX = 0\n",
    "IY = 0\n",
    "\n",
    "canvas = Canvas(width=g+2*r, height=h+2*r)\n",
    "display(canvas)\n",
    "    \n",
    "backup=SN.copy()\n",
    "\n",
    "def move(fr,to):\n",
    "    if len(to) == 0 and len(fr) > 0:\n",
    "        to.append(fr[-1])\n",
    "        fr.pop(-1)\n",
    "    elif ((to[-1] == fr[-1] and len(to) < C)):\n",
    "        to.append(fr[-1])\n",
    "        fr.pop(-1)\n",
    "\n",
    "def show(EX=-1):\n",
    "    canvas.clear()\n",
    "    for n in range(N):\n",
    "        S = SN[n]\n",
    "        if n == EX:\n",
    "            for i in range(len(S)-1):\n",
    "                canvas.fill_style = color(ord(S[i])-65)\n",
    "                canvas.fill_circle(g*n/(N-1)+r,h-h*i/(C)+r,r)\n",
    "            if len(S)!=0:\n",
    "                canvas.fill_style = color(ord(S[len(S)-1])-65)\n",
    "                canvas.fill_circle(g*n/(N-1)+r,r,r)\n",
    "        else:\n",
    "            for i in range(len(S)):\n",
    "                canvas.fill_style = color(ord(S[i])-65)\n",
    "                canvas.fill_circle(g*n/(N-1)+r,h-h*i/(C)+r,r)\n",
    "\n",
    "def vic():\n",
    "    global dub\n",
    "    if dub==0:\n",
    "        dub=1\n",
    "        # Don't read this bitch, only for when you win\n",
    "        print(\"Well done, Witch of Iron.\")\n",
    "        print(\"You have passed the final test. The nightmares are over.\")\n",
    "        print(\"To claim your reward call the hotline: +47 483 84 702\")\n",
    "        print(\"The reward can be claimed anytime before 7.10.22\")\n",
    "        print(\"(no rush tho, only if you have time and wanna)\")\n",
    "\n",
    "win = 0\n",
    "tro = None\n",
    "fro = None\n",
    "\n",
    "show()\n",
    "\n",
    "out = Output()\n",
    "\n",
    "@out.capture()\n",
    "def handle_mouse_down(x, y):\n",
    "    global win,tro,fro,SN,N\n",
    "    for i in range(N):\n",
    "        var = SN[i]\n",
    "        if not len(var) == 0:\n",
    "            if var.count(var[0]) == C:\n",
    "                win += 1\n",
    "            else:\n",
    "                win = 0\n",
    "    if win < N-2:\n",
    "        if fro == None:\n",
    "            fro = floor((x/g*(N-1)))\n",
    "            show(fro)\n",
    "        else:\n",
    "            tro = floor((x/g*(N-1)))\n",
    "        if isinstance(tro, int) and isinstance(fro, int):\n",
    "            if -1 < fro < N and -1 < tro < N and not SN[fro]==[]:\n",
    "                move(SN[fro],SN[tro])\n",
    "                show()\n",
    "            tro = None\n",
    "            fro = None\n",
    "    else:\n",
    "        if color(0)==\"rgb(105,161,222)\":\n",
    "            vic()\n",
    "        else:\n",
    "            print(\"gottem\")\n",
    "\n",
    "canvas.on_mouse_down(handle_mouse_down)\n",
    "display(out)\n",
    "\n",
    "\n"
   ]
  },
  {
   "cell_type": "code",
   "execution_count": null,
   "id": "97e2a0e9-e9e3-4873-a626-402f168be9b3",
   "metadata": {},
   "outputs": [],
   "source": []
  }
 ],
 "metadata": {
  "kernelspec": {
   "display_name": "Python 3 (ipykernel)",
   "language": "python",
   "name": "python3"
  },
  "language_info": {
   "codemirror_mode": {
    "name": "ipython",
    "version": 3
   },
   "file_extension": ".py",
   "mimetype": "text/x-python",
   "name": "python",
   "nbconvert_exporter": "python",
   "pygments_lexer": "ipython3",
   "version": "3.8.8"
  }
 },
 "nbformat": 4,
 "nbformat_minor": 5
}
